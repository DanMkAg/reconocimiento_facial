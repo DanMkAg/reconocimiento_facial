{
 "cells": [
  {
   "cell_type": "markdown",
   "id": "99a729b9",
   "metadata": {},
   "source": [
    "# Clasificación de imágenes con Red Neuronal Convolucional (LeNet)"
   ]
  },
  {
   "cell_type": "code",
   "execution_count": 2,
   "id": "e4b2abfb",
   "metadata": {},
   "outputs": [],
   "source": [
    "# Importo librerías\n",
    "# Manejo y visualización de datos\n",
    "import numpy as np\n",
    "import matplotlib.pyplot as plt\n",
    "# Formato de datos\n",
    "from tensorflow.keras.utils import to_categorical\n",
    "# Librería para contenedor del modelo\n",
    "from tensorflow.keras.models import Sequential\n",
    "# Implementación capas convolucionales\n",
    "from tensorflow.keras.layers import Conv2D, MaxPooling2D\n",
    "# Librerías red neuronal\n",
    "from tensorflow.keras.layers import Flatten, Dense\n",
    "# Librería método 'gradiente descendiente' para entrenamiento\n",
    "from keras.optimizers import SGD"
   ]
  },
  {
   "cell_type": "code",
   "execution_count": 33,
   "id": "c14fea42",
   "metadata": {},
   "outputs": [],
   "source": [
    "# Utilizo el set de datos de 'mnist' que son gráficos de numeros escritos por diferentes personas\n",
    "from keras.datasets import mnist"
   ]
  },
  {
   "cell_type": "code",
   "execution_count": 34,
   "id": "c5663964",
   "metadata": {},
   "outputs": [
    {
     "name": "stdout",
     "output_type": "stream",
     "text": [
      "(60000, 28, 28)\n",
      "(60000,)\n",
      "(10000, 28, 28)\n",
      "(10000,)\n"
     ]
    }
   ],
   "source": [
    "# Cargo los datos y creo los conjuntos de entrenamiento y prueba\n",
    "(x_train, y_train), (x_test,y_test) = mnist.load_data()\n",
    "# Veo las dimensiones de las imágenes y cuantas imágenes hay en cada conjunto\n",
    "print(x_train.shape)\n",
    "print(y_train.shape)\n",
    "print(x_test.shape)\n",
    "print(y_test.shape)"
   ]
  },
  {
   "cell_type": "code",
   "execution_count": 35,
   "id": "2b1ab85b",
   "metadata": {},
   "outputs": [],
   "source": [
    "# Normalizo las imágenes para que las reconozca keras bien, con formato de pixels correcto\n",
    "x_train = x_train/255.0\n",
    "x_test = x_test/255.0"
   ]
  },
  {
   "cell_type": "code",
   "execution_count": null,
   "id": "1a83cec8",
   "metadata": {},
   "outputs": [],
   "source": [
    "# Asigna un valor de 1 a la columna correspondiente para cada muestra\n",
    "#y_test = np.argmax(y_test, axis=1)\n",
    "#y_train = np.argmax(y_train, axis=1)\n",
    "# Verifica la forma de las etiquetas reales\n",
    "#print(\"Forma de las etiquetas reales:\", y_train.shape)"
   ]
  },
  {
   "cell_type": "code",
   "execution_count": 36,
   "id": "e7da6028",
   "metadata": {},
   "outputs": [],
   "source": [
    "nclases = 10\n",
    "y_train = to_categorical(y_train,nclases)\n",
    "y_test = to_categorical(y_test,nclases)"
   ]
  },
  {
   "cell_type": "code",
   "execution_count": 65,
   "id": "2246bad3",
   "metadata": {},
   "outputs": [
    {
     "data": {
      "image/png": "[encoded data removed]",
      "text/plain": [
       "<Figure size 640x480 with 1 Axes>"
      ]
     },
     "metadata": {},
     "output_type": "display_data"
    }
   ],
   "source": [
    "# Visualizo una de las imagenes del conjunto de datos de entrenamiento\n",
    "nimagen = 100\n",
    "plt.imshow(x_train[nimagen,:].reshape(28,28), cmap='gray_r')\n",
    "plt.title('Imagen ejemplo - Categoría: ' + str(np.argmax(y_train[nimagen])))\n",
    "plt.axis('off')\n",
    "plt.show()"
   ]
  },
  {
   "cell_type": "code",
   "execution_count": 39,
   "id": "499978dd",
   "metadata": {},
   "outputs": [],
   "source": [
    "# Especifico un solo canal o una sola capa por tratarse de una escala de grises\n",
    "x_train = x_train.reshape(60000,28,28,1)\n",
    "x_test = x_test.reshape(10000,28,28,1)"
   ]
  },
  {
   "cell_type": "code",
   "execution_count": 40,
   "id": "f336366d",
   "metadata": {},
   "outputs": [],
   "source": [
    "# Creo contenedor del modelo, donde se iran añadiendo las capas\n",
    "modelo = Sequential()\n",
    "# Añado primera capa convolucional\n",
    "# Capa CONV2D, con 6 filtros de 5x5 sin padding y stride 1, al no especificarlos, keras ya lo hace automáticamente, por tratarse de la configuración mínima\n",
    "modelo.add(Conv2D(filters=6, kernel_size=(5,5), activation='relu', input_shape=(28,28,1)))\n",
    "# Capa MAX-POOLING, con 6 filtros igual que la anterior, y sin padding. Utilizo pool_size para determinar el tamaño de cada filtro.\n",
    "modelo.add(MaxPooling2D(pool_size=(2,2)))\n",
    "# Añado segunda capa convolucional igual que la anterior pero con 16 filtros\n",
    "modelo.add(Conv2D(filters=16, kernel_size=(5,5), activation='relu'))\n",
    "modelo.add(MaxPooling2D(pool_size=(2,2)))\n",
    "# Aplano el resultado con 'Flatten' y creo la red neuronal con 120 neuronas para la primera capa, y 84 para la segunda, con una salida 'softmax' con 10 categorías\n",
    "modelo.add(Flatten())\n",
    "modelo.add(Dense(120,activation='relu'))\n",
    "modelo.add(Dense(84,activation='relu'))\n",
    "modelo.add(Dense(nclases,activation='softmax'))"
   ]
  },
  {
   "cell_type": "code",
   "execution_count": 41,
   "id": "e49808b3",
   "metadata": {},
   "outputs": [
    {
     "name": "stdout",
     "output_type": "stream",
     "text": [
      "313/313 [==============================] - 1s 4ms/step\n",
      "Forma de las salidas generadas por el modelo: (10000, 10)\n",
      "Forma de las etiquetas reales: (10000, 10)\n"
     ]
    }
   ],
   "source": [
    "# Uso el modelo para ver las salidas del conjunto de datos de prueba, y poder comprobar con las etiquetas reales, que son compatibles y tienen el mismo formato.\n",
    "predicted_outputs = modelo.predict(x_test)\n",
    "\n",
    "# Imprimo la forma de las salidas generadas\n",
    "print(\"Forma de las salidas generadas por el modelo:\", predicted_outputs.shape)\n",
    "\n",
    "# Imprimo la forma de las etiquetas reales\n",
    "print(\"Forma de las etiquetas reales:\", y_test.shape)"
   ]
  },
  {
   "cell_type": "code",
   "execution_count": 42,
   "id": "29d20744",
   "metadata": {},
   "outputs": [],
   "source": [
    "# Compilo el modelo.\n",
    "# Creo el optimizador utilizando el método 'gradiente descendente', en una tasa de aprendizaje de 0,1\n",
    "sgd = SGD(learning_rate=0.1)\n",
    "# Asocio el optimizador al modelo, y defino función de error con 'entropía cruzada', y evaluación de aciertos 'accuracy' sobre el conjunto de entrenamiento y validación\n",
    "modelo.compile(loss='categorical_crossentropy', optimizer=sgd, metrics=['accuracy'])"
   ]
  },
  {
   "cell_type": "code",
   "execution_count": 43,
   "id": "0227eb22",
   "metadata": {},
   "outputs": [
    {
     "name": "stdout",
     "output_type": "stream",
     "text": [
      "Epoch 1/10\n",
      "469/469 [==============================] - 8s 17ms/step - loss: 0.3994 - accuracy: 0.8736 - val_loss: 0.1480 - val_accuracy: 0.9528\n",
      "Epoch 2/10\n",
      "469/469 [==============================] - 7s 16ms/step - loss: 0.0931 - accuracy: 0.9704 - val_loss: 0.0613 - val_accuracy: 0.9799\n",
      "Epoch 3/10\n",
      "469/469 [==============================] - 8s 16ms/step - loss: 0.0670 - accuracy: 0.9794 - val_loss: 0.0511 - val_accuracy: 0.9832\n",
      "Epoch 4/10\n",
      "469/469 [==============================] - 7s 16ms/step - loss: 0.0521 - accuracy: 0.9842 - val_loss: 0.0453 - val_accuracy: 0.9842\n",
      "Epoch 5/10\n",
      "469/469 [==============================] - 8s 17ms/step - loss: 0.0456 - accuracy: 0.9856 - val_loss: 0.0425 - val_accuracy: 0.9861\n",
      "Epoch 6/10\n",
      "469/469 [==============================] - 7s 16ms/step - loss: 0.0367 - accuracy: 0.9885 - val_loss: 0.0469 - val_accuracy: 0.9845\n",
      "Epoch 7/10\n",
      "469/469 [==============================] - 8s 16ms/step - loss: 0.0322 - accuracy: 0.9898 - val_loss: 0.0419 - val_accuracy: 0.9862\n",
      "Epoch 8/10\n",
      "469/469 [==============================] - 8s 16ms/step - loss: 0.0285 - accuracy: 0.9911 - val_loss: 0.0433 - val_accuracy: 0.9847\n",
      "Epoch 9/10\n",
      "469/469 [==============================] - 8s 16ms/step - loss: 0.0247 - accuracy: 0.9917 - val_loss: 0.0413 - val_accuracy: 0.9862\n",
      "Epoch 10/10\n",
      "469/469 [==============================] - 8s 16ms/step - loss: 0.0215 - accuracy: 0.9929 - val_loss: 0.0455 - val_accuracy: 0.9854\n"
     ]
    },
    {
     "data": {
      "text/plain": [
       "<keras.src.callbacks.History at 0x2a24c9fc7f0>"
      ]
     },
     "execution_count": 43,
     "metadata": {},
     "output_type": "execute_result"
    }
   ],
   "source": [
    "# Defino la cantidad de iteraciones y la cantidad de imagenes por bloque para no tener problemas con la memoria\n",
    "nepochs = 10\n",
    "tam_lote = 128\n",
    "# Entreno el modelo añadiendo evaluación simultanea\n",
    "modelo.fit(x_train,y_train,epochs=nepochs,batch_size=tam_lote, verbose=1, validation_data=(x_test,y_test))"
   ]
  },
  {
   "cell_type": "code",
   "execution_count": 50,
   "id": "ed7bf3c1",
   "metadata": {},
   "outputs": [],
   "source": [
    "from sklearn.metrics import confusion_matrix\n",
    "# Creo función para \n",
    "def graficar_matriz_de_confusion(y_ref, y_pred, clases, cmap=plt.cm.Blues):\n",
    "\n",
    "    titulo = 'Matriz de confusión'\n",
    "\n",
    "    cm = confusion_matrix(y_ref, y_pred)\n",
    "\n",
    "    # Genero gráfico\n",
    "    fig, ax = plt.subplots()\n",
    "    im = ax.imshow(cm, interpolation='nearest', cmap=cmap)\n",
    "    ax.set(xticks=np.arange(cm.shape[1]),\n",
    "           yticks=np.arange(cm.shape[0]),\n",
    "           xticklabels=clases, yticklabels=clases,\n",
    "           title=titulo,\n",
    "           ylabel='Categoría real',\n",
    "           xlabel='Predicción')\n",
    "\n",
    "    # Giro y alineo etiquetas\n",
    "    plt.setp(ax.get_xticklabels(), rotation=45, ha=\"right\",\n",
    "             rotation_mode=\"anchor\")\n",
    "\n",
    "    # Relleno gráfico con los valores de la matriz de confusión\n",
    "    fmt = 'd'\n",
    "    thresh = cm.max() / 2.\n",
    "    for i in range(cm.shape[0]):\n",
    "        for j in range(cm.shape[1]):\n",
    "            ax.text(j, i, format(cm[i, j], fmt),\n",
    "                    ha=\"center\", va=\"center\",\n",
    "                    color=\"white\" if cm[i, j] > thresh else \"black\")\n",
    "    fig.tight_layout()\n",
    "    plt.show()"
   ]
  },
  {
   "cell_type": "code",
   "execution_count": 52,
   "id": "b48acc97",
   "metadata": {},
   "outputs": [
    {
     "name": "stdout",
     "output_type": "stream",
     "text": [
      "313/313 [==============================] - 1s 4ms/step\n"
     ]
    },
    {
     "data": {
      "image/png": "[encoded data removed]",
      "text/plain": [
       "<Figure size 640x480 with 1 Axes>"
      ]
     },
     "metadata": {},
     "output_type": "display_data"
    }
   ],
   "source": [
    "# Aplico la predicción del modelo sobre 'x_test', y almaceno en 'y_pred'\n",
    "y_pred = np.argmax(modelo.predict(x_test), axis=1)\n",
    "# Cargo los datos reales transformados con one-hot anteriormente y que están en 'y_test'\n",
    "y_ref = np.argmax(y_test,axis=1)\n",
    "# Creo etiquetas de las filas y columnas de la matriz\n",
    "etiquetas = ['0','1','2','3','4','5','6','7','8','9']\n",
    "# Creo gráfico de matriz de confusión\n",
    "graficar_matriz_de_confusion(y_ref, y_pred, etiquetas)"
   ]
  },
  {
   "cell_type": "markdown",
   "id": "6f32e99f",
   "metadata": {},
   "source": [
    "### Podemos observar como el grado de precisión del modelo es bastante elevado y osicla en un 98% o 99% de precisión"
   ]
  }
 ],
 "metadata": {
  "kernelspec": {
   "display_name": "Python 3 (ipykernel)",
   "language": "python",
   "name": "python3"
  },
  "language_info": {
   "codemirror_mode": {
    "name": "ipython",
    "version": 3
   },
   "file_extension": ".py",
   "mimetype": "text/x-python",
   "name": "python",
   "nbconvert_exporter": "python",
   "pygments_lexer": "ipython3",
   "version": "3.10.9"
  }
 },
 "nbformat": 4,
 "nbformat_minor": 5
}
